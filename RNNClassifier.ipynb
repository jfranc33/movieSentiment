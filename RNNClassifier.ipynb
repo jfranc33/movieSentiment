{
 "cells": [
  {
   "cell_type": "code",
   "execution_count": 123,
   "id": "59905284-a53c-4317-ba77-08cc5ca99c90",
   "metadata": {},
   "outputs": [
    {
     "name": "stderr",
     "output_type": "stream",
     "text": [
      "[nltk_data] Downloading package stopwords to\n",
      "[nltk_data]     /Users/muchlogic/nltk_data...\n",
      "[nltk_data]   Package stopwords is already up-to-date!\n",
      "[nltk_data] Downloading package punkt to /Users/muchlogic/nltk_data...\n",
      "[nltk_data]   Package punkt is already up-to-date!\n",
      "[nltk_data] Downloading package averaged_perceptron_tagger to\n",
      "[nltk_data]     /Users/muchlogic/nltk_data...\n",
      "[nltk_data]   Package averaged_perceptron_tagger is already up-to-\n",
      "[nltk_data]       date!\n",
      "[nltk_data] Downloading package wordnet to\n",
      "[nltk_data]     /Users/muchlogic/nltk_data...\n",
      "[nltk_data]   Package wordnet is already up-to-date!\n",
      "[nltk_data] Downloading package omw-1.4 to\n",
      "[nltk_data]     /Users/muchlogic/nltk_data...\n",
      "[nltk_data]   Package omw-1.4 is already up-to-date!\n"
     ]
    }
   ],
   "source": [
    "import pandas as pd\n",
    "import numpy as np\n",
    "import matplotlib.pyplot as plt\n",
    "import seaborn as sns\n",
    "import nltk # natural language tool kit\n",
    "import contractions\n",
    "import string\n",
    "nltk.download('stopwords')\n",
    "nltk.download('punkt')\n",
    "from nltk.corpus import stopwords\n",
    "from nltk.tokenize import word_tokenize\n",
    "from nltk.tokenize.treebank import TreebankWordDetokenizer\n",
    "nltk.download('averaged_perceptron_tagger')\n",
    "nltk.download('wordnet')\n",
    "nltk.download('omw-1.4')\n",
    "from nltk.corpus import wordnet\n",
    "from nltk.stem import WordNetLemmatizer\n",
    "lemmatizer = WordNetLemmatizer()\n",
    "from bs4 import BeautifulSoup\n",
    "from nltk import pos_tag, word_tokenize   \n",
    "import random\n",
    "import re\n",
    "\n",
    "from tqdm import tqdm\n",
    "from tensorflow.keras.utils import to_categorical\n",
    "from sklearn.model_selection import train_test_split\n",
    "from keras.preprocessing import sequence\n",
    "from keras.preprocessing.text import Tokenizer"
   ]
  },
  {
   "cell_type": "code",
   "execution_count": 124,
   "id": "7695bee6-9ac1-40fa-bee0-4d3d47621f90",
   "metadata": {},
   "outputs": [],
   "source": [
    "train = pd.read_csv('./train.tsv', sep='\\t')\n",
    "test = pd.read_csv('./test 2.tsv', sep = '\\t')"
   ]
  },
  {
   "cell_type": "markdown",
   "id": "012020b4-ffe8-4c8c-9159-8e25741f832c",
   "metadata": {},
   "source": [
    "The sentiment labels are:\n",
    "\n",
    "0 - negative\n",
    "\n",
    "1 - somewhat negative\n",
    "\n",
    "2 - neutral\n",
    "\n",
    "3 - somewhat positive\n",
    "\n",
    "4 - positive"
   ]
  },
  {
   "cell_type": "code",
   "execution_count": 129,
   "id": "54a57df0-edc1-4e25-888e-41ff76b02297",
   "metadata": {},
   "outputs": [],
   "source": [
    "# Remove grammar, tokenize, and lemmatize the sentences\n",
    "def clean_sentences(df):\n",
    "    reviews = []\n",
    "\n",
    "    for sent in tqdm(df['Phrase']):\n",
    "        \n",
    "        # remove non-alphabetical characters\n",
    "        text = re.sub('[^a-zA-Z]', ' ', sent)\n",
    "        \n",
    "        # tokenize sentence\n",
    "        words = word_tokenize(text.lower())\n",
    "        \n",
    "        # remove stop words:\n",
    "        new_words = [char for char in words if char.lower() not in stopwords.words('english')]\n",
    "        \n",
    "        # lemmatizing each word to its lemma\n",
    "        lem = WordNetLemmatizer()\n",
    "        lem_words = [lem.lemmatize(i) for i in new_words]\n",
    "    \n",
    "        reviews.append(lem_words)\n",
    "\n",
    "    return(reviews)"
   ]
  },
  {
   "cell_type": "code",
   "execution_count": 130,
   "id": "0fb6de4a-fc5f-4a95-ac19-17c80482e95e",
   "metadata": {},
   "outputs": [
    {
     "name": "stderr",
     "output_type": "stream",
     "text": [
      "100%|████████████████████████████████████████████████████████████████████████████████████| 156060/156060 [03:04<00:00, 847.58it/s]\n",
      "100%|██████████████████████████████████████████████████████████████████████████████████████| 66292/66292 [01:11<00:00, 926.04it/s]\n"
     ]
    }
   ],
   "source": [
    "train_sen = clean_sentences(train)\n",
    "test_sen = clean_sentences(test)"
   ]
  },
  {
   "cell_type": "code",
   "execution_count": 131,
   "id": "488e2434-4347-4d6b-b158-f9d8ba1bb701",
   "metadata": {},
   "outputs": [
    {
     "name": "stdout",
     "output_type": "stream",
     "text": [
      "156060\n",
      "66292\n"
     ]
    }
   ],
   "source": [
    "print(len(train['Phrase']))\n",
    "print(len(test['Phrase']))"
   ]
  },
  {
   "cell_type": "code",
   "execution_count": 132,
   "id": "2b4accda-6a0e-47de-8636-46b85744e604",
   "metadata": {},
   "outputs": [
    {
     "name": "stdout",
     "output_type": "stream",
     "text": [
      "156060\n",
      "66292\n"
     ]
    }
   ],
   "source": [
    "print(len(train_sen))\n",
    "print(len(test_sen))"
   ]
  },
  {
   "cell_type": "code",
   "execution_count": 133,
   "id": "4ae55c4b-aded-46f8-bd99-d374e8a5cb51",
   "metadata": {},
   "outputs": [],
   "source": [
    "target=train.Sentiment.values\n",
    "y_target=to_categorical(target)\n",
    "num_classes=y_target.shape[1]"
   ]
  },
  {
   "cell_type": "code",
   "execution_count": 134,
   "id": "75251e13-1d13-42f4-85c6-412517d76edc",
   "metadata": {},
   "outputs": [
    {
     "data": {
      "text/plain": [
       "array([1, 2, 2, ..., 3, 2, 2])"
      ]
     },
     "execution_count": 134,
     "metadata": {},
     "output_type": "execute_result"
    }
   ],
   "source": [
    "target"
   ]
  },
  {
   "cell_type": "code",
   "execution_count": 135,
   "id": "767d06ef-0aca-4178-beb9-67803d7dc9de",
   "metadata": {},
   "outputs": [],
   "source": [
    "X_train,X_val,y_train,y_val = train_test_split(train_sen,y_target,\n",
    "                                             test_size=0.2,stratify=y_target)"
   ]
  },
  {
   "cell_type": "code",
   "execution_count": null,
   "id": "f16d9c04-8edd-48c3-b599-16ae9914cc91",
   "metadata": {},
   "outputs": [],
   "source": [
    "unique_words = set()\n",
    "len_max = 0\n",
    "\n",
    "for sent in tqdm(X_train):\n",
    "    \n",
    "    unique_words.update(sent)\n",
    "    \n",
    "    if(len_max<len(sent)):\n",
    "        len_max = len(sent)\n",
    "        \n",
    "print(len(list(unique_words)))\n",
    "print(len_max)"
   ]
  },
  {
   "cell_type": "code",
   "execution_count": null,
   "id": "634de951-7c28-4169-aa0a-9eb36b743a19",
   "metadata": {},
   "outputs": [],
   "source": [
    "vocab_size = len(list(unique_words))\n",
    "embedding_dim = 300\n",
    "max_length = len_max\n",
    "trunc_type = 'post'\n",
    "padding_type = 'post'\n",
    "oov_tok = '<OOV>'"
   ]
  },
  {
   "cell_type": "code",
   "execution_count": null,
   "id": "216cf10b-cc31-4356-a53f-15d21c5babe5",
   "metadata": {},
   "outputs": [],
   "source": [
    "tokenizer = Tokenizer(num_words=len(list(unique_words)))\n",
    "tokenizer.fit_on_texts(list(X_train))\n",
    "\n",
    "X_train = tokenizer.texts_to_sequences(X_train)\n",
    "X_val = tokenizer.texts_to_sequences(X_val)\n",
    "X_test = tokenizer.texts_to_sequences(test_sen)\n",
    "\n",
    "\n",
    "X_train = sequence.pad_sequences(X_train, maxlen=len_max)\n",
    "X_val = sequence.pad_sequences(X_val, maxlen=len_max)\n",
    "X_test = sequence.pad_sequences(X_test, maxlen=len_max)\n",
    "\n",
    "print(X_train.shape,X_val.shape,X_test.shape)"
   ]
  },
  {
   "cell_type": "markdown",
   "id": "a2566fb6-5702-4b0f-9c80-d99627b4fbf9",
   "metadata": {},
   "source": [
    "### Building a stack of layers with keras\n",
    "* Embedding: Convert words of similar meanings to vector representation\n",
    "* Bidirectional: Store sequence in memory using an RNN, but it's bidirectional because it also stores future values\n",
    "* Dense: Regular NN layer"
   ]
  },
  {
   "cell_type": "code",
   "execution_count": null,
   "id": "3dd1d2cc-0c52-4cb3-935e-77abf0a252e3",
   "metadata": {},
   "outputs": [],
   "source": [
    "from keras.models import Sequential\n",
    "from keras.layers import Dense,Bidirectional,LSTM,Activation,Dropout\n",
    "from keras.layers.embeddings import Embedding"
   ]
  },
  {
   "cell_type": "code",
   "execution_count": 101,
   "id": "9ca7bf58-d443-430d-9370-08667e21f6d2",
   "metadata": {},
   "outputs": [
    {
     "name": "stderr",
     "output_type": "stream",
     "text": [
      "2022-04-26 13:50:16.214552: I tensorflow/core/platform/cpu_feature_guard.cc:151] This TensorFlow binary is optimized with oneAPI Deep Neural Network Library (oneDNN) to use the following CPU instructions in performance-critical operations:  AVX2 FMA\n",
      "To enable them in other operations, rebuild TensorFlow with the appropriate compiler flags.\n"
     ]
    }
   ],
   "source": [
    "model = Sequential([\n",
    "    Embedding(vocab_size, embedding_dim, input_length = max_length),\n",
    "    Bidirectional(LSTM(128, dropout = 0.2, recurrent_dropout = 0.2, return_sequences = True)),\n",
    "    Bidirectional(LSTM(64, dropout = 0.2, recurrent_dropout = 0.2, return_sequences = False)),\n",
    "    Dense(128,activation = 'relu'),\n",
    "    Dense(y_target.shape[1],activation = 'softmax')\n",
    "])\n",
    "\n",
    "model.compile(loss = 'categorical_crossentropy',\n",
    "             optimizer = 'adam',\n",
    "             metrics = ['accuracy'])"
   ]
  },
  {
   "cell_type": "markdown",
   "id": "f0c5a29c-341e-43c5-b8ba-55e7426b7bb2",
   "metadata": {},
   "source": [
    "#### Stop training when the model has stopped improving!"
   ]
  },
  {
   "cell_type": "code",
   "execution_count": 102,
   "id": "ce5b1bdf-d72c-4ef2-a5d4-452135fc616e",
   "metadata": {},
   "outputs": [],
   "source": [
    "from keras.callbacks import EarlyStopping\n",
    "early_stopping = EarlyStopping(min_delta = 0.001,\n",
    "                               mode = 'max',\n",
    "                               monitor = 'val_accuracy',\n",
    "                               patience = 2)\n",
    "callback = [early_stopping]"
   ]
  },
  {
   "cell_type": "code",
   "execution_count": 103,
   "id": "3808c207-0f49-4242-aa02-7b1f102ec10d",
   "metadata": {},
   "outputs": [
    {
     "name": "stdout",
     "output_type": "stream",
     "text": [
      "Epoch 1/4\n",
      "488/488 [==============================] - ETA: 0s - loss: 0.9891 - accuracy: 0.6022WARNING:tensorflow:Early stopping conditioned on metric `val_acc` which is not available. Available metrics are: loss,accuracy,val_loss,val_accuracy\n",
      "488/488 [==============================] - 478s 963ms/step - loss: 0.9891 - accuracy: 0.6022 - val_loss: 0.8468 - val_accuracy: 0.6525\n",
      "Epoch 2/4\n",
      "488/488 [==============================] - ETA: 0s - loss: 0.7760 - accuracy: 0.6806WARNING:tensorflow:Early stopping conditioned on metric `val_acc` which is not available. Available metrics are: loss,accuracy,val_loss,val_accuracy\n",
      "488/488 [==============================] - 480s 983ms/step - loss: 0.7760 - accuracy: 0.6806 - val_loss: 0.8004 - val_accuracy: 0.6693\n",
      "Epoch 3/4\n",
      "488/488 [==============================] - ETA: 0s - loss: 0.7007 - accuracy: 0.7076WARNING:tensorflow:Early stopping conditioned on metric `val_acc` which is not available. Available metrics are: loss,accuracy,val_loss,val_accuracy\n",
      "488/488 [==============================] - 484s 992ms/step - loss: 0.7007 - accuracy: 0.7076 - val_loss: 0.8085 - val_accuracy: 0.6686\n",
      "Epoch 4/4\n",
      "488/488 [==============================] - ETA: 0s - loss: 0.6525 - accuracy: 0.7254WARNING:tensorflow:Early stopping conditioned on metric `val_acc` which is not available. Available metrics are: loss,accuracy,val_loss,val_accuracy\n",
      "488/488 [==============================] - 472s 967ms/step - loss: 0.6525 - accuracy: 0.7254 - val_loss: 0.8066 - val_accuracy: 0.6747\n"
     ]
    }
   ],
   "source": [
    "num_epochs = 4\n",
    "\n",
    "history = model.fit(X_train,y_train,\n",
    "                    validation_data = (X_val, y_val),\n",
    "                    epochs = num_epochs,\n",
    "                    batch_size = 256,\n",
    "                    verbose = 1,\n",
    "                    callbacks = callback)"
   ]
  },
  {
   "cell_type": "code",
   "execution_count": 104,
   "id": "e7136192-f4ff-4aad-a1a5-89a5bb3fdcde",
   "metadata": {},
   "outputs": [],
   "source": [
    "y_pred = model.predict(X_val, verbose = 1)"
   ]
  },
  {
   "cell_type": "code",
   "execution_count": 105,
   "id": "d0846048-c16e-44c9-aa19-c1cc43933222",
   "metadata": {},
   "outputs": [
    {
     "data": {
      "text/plain": [
       "array([[3.44275031e-04, 1.29109668e-03, 1.20304544e-02, 1.26401320e-01,\n",
       "        8.59932840e-01],\n",
       "       [3.07833016e-01, 5.46647429e-01, 1.31714225e-01, 1.26017239e-02,\n",
       "        1.20359496e-03],\n",
       "       [6.72986562e-06, 2.54179613e-04, 4.46216166e-02, 7.12367296e-01,\n",
       "        2.42750198e-01],\n",
       "       ...,\n",
       "       [6.09449625e-01, 3.33364874e-01, 5.64846322e-02, 6.50497503e-04,\n",
       "        5.03690280e-05],\n",
       "       [5.37241101e-02, 7.42251098e-01, 1.99350893e-01, 4.57042595e-03,\n",
       "        1.03416605e-04],\n",
       "       [1.22323863e-05, 1.59618317e-03, 3.16072911e-01, 6.65210843e-01,\n",
       "        1.71078239e-02]], dtype=float32)"
      ]
     },
     "execution_count": 105,
     "metadata": {},
     "output_type": "execute_result"
    }
   ],
   "source": [
    "y_pred"
   ]
  },
  {
   "cell_type": "code",
   "execution_count": 106,
   "id": "9724aaf7-19c1-4533-ab6f-6fac47caa397",
   "metadata": {},
   "outputs": [
    {
     "data": {
      "text/plain": [
       "array([[0., 0., 0., 1., 0.],\n",
       "       [0., 1., 0., 0., 0.],\n",
       "       [0., 0., 0., 1., 0.],\n",
       "       ...,\n",
       "       [0., 1., 0., 0., 0.],\n",
       "       [0., 0., 0., 1., 0.],\n",
       "       [0., 0., 1., 0., 0.]], dtype=float32)"
      ]
     },
     "execution_count": 106,
     "metadata": {},
     "output_type": "execute_result"
    }
   ],
   "source": [
    "y_val"
   ]
  },
  {
   "cell_type": "code",
   "execution_count": 107,
   "id": "f1606129-b13d-4fea-8fdb-dce117f452db",
   "metadata": {},
   "outputs": [],
   "source": [
    "y_val_pred_max=[np.argmax(i) for i in y_pred]"
   ]
  },
  {
   "cell_type": "code",
   "execution_count": 108,
   "id": "b574972b-eed2-47d3-89a2-6a50571f9e12",
   "metadata": {},
   "outputs": [],
   "source": [
    "y_val_actual_max=[np.argmax(i) for i in y_val]"
   ]
  },
  {
   "cell_type": "code",
   "execution_count": 109,
   "id": "32fb5348-5606-48ae-aec3-b98c9a270457",
   "metadata": {},
   "outputs": [
    {
     "name": "stdout",
     "output_type": "stream",
     "text": [
      "              precision    recall  f1-score   support\n",
      "\n",
      "           0       0.37      0.56      0.45       940\n",
      "           1       0.63      0.56      0.59      6147\n",
      "           2       0.79      0.76      0.78     16643\n",
      "           3       0.57      0.60      0.58      6239\n",
      "           4       0.40      0.59      0.47      1243\n",
      "\n",
      "    accuracy                           0.67     31212\n",
      "   macro avg       0.55      0.61      0.57     31212\n",
      "weighted avg       0.69      0.67      0.68     31212\n",
      "\n"
     ]
    }
   ],
   "source": [
    "from sklearn.metrics import classification_report\n",
    "\n",
    "report = classification_report(y_val_pred_max, y_val_actual_max)\n",
    "\n",
    "print(report)"
   ]
  },
  {
   "cell_type": "code",
   "execution_count": 110,
   "id": "68ba52b4-4d11-4aaf-b7d7-bf6345420b2d",
   "metadata": {},
   "outputs": [
    {
     "data": {
      "image/png": "[encoded data removed]",
      "text/plain": [
       "<Figure size 432x288 with 2 Axes>"
      ]
     },
     "metadata": {},
     "output_type": "display_data"
    }
   ],
   "source": [
    "from sklearn.metrics import confusion_matrix, ConfusionMatrixDisplay\n",
    "\n",
    "disp = ConfusionMatrixDisplay(confusion_matrix=confusion_matrix(y_val_pred_max, y_val_actual_max), display_labels=np.unique(y_val_actual_max))\n",
    "disp.plot(cmap='Blues') \n",
    "plt.grid(False)"
   ]
  },
  {
   "cell_type": "code",
   "execution_count": null,
   "id": "73370f42-7266-4a58-b633-b7affdc4ab2e",
   "metadata": {},
   "outputs": [],
   "source": []
  }
 ],
 "metadata": {
  "kernelspec": {
   "display_name": "Python 3 (ipykernel)",
   "language": "python",
   "name": "python3"
  },
  "language_info": {
   "codemirror_mode": {
    "name": "ipython",
    "version": 3
   },
   "file_extension": ".py",
   "mimetype": "text/x-python",
   "name": "python",
   "nbconvert_exporter": "python",
   "pygments_lexer": "ipython3",
   "version": "3.7.3"
  }
 },
 "nbformat": 4,
 "nbformat_minor": 5
}
